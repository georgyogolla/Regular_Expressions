{
 "cells": [
  {
   "cell_type": "code",
   "execution_count": 1,
   "id": "e103044b",
   "metadata": {},
   "outputs": [],
   "source": [
    "# [aeiou] Match any vowel\n",
    "# [^aeiou] ^ inverts selection, this matches any consonant\n",
    "# [a-z] Match any lowercase letter from a-z\n",
    "# \\d Matches any decimal digit; this is equivalent to class[0-9]\n",
    "# \\D Matches non-digit character; this is equivalent the class[^0-9]\n",
    "# \\s Matches any whitespace character; this is equivalent to the class [\\f\\n\\r\\f\\v]\n",
    "# \\S Matches any non-whitespace character; this is equivalent to the class [^\\f\\n\\r\\f\\v]\n",
    "#\\w Matches any alphanumeric character; this is eqivalent to the class [a-zA-Z0-9]\n",
    "#\\w Matches any alphanumeric character; this is eqivalent to the class [^a-zA-Z0-9]\n",
    "\n",
    "\n",
    "          # REPETITON\n",
    "# ? Match 0 or 1 of the peceeding group\n",
    "# * Match 0 o more of the preceeding group\n",
    "# + Match exactly 1 or more of the preceeding group\n",
    "# {n} Match exactly n of the preceeding group\n",
    "# ^string string must begin with string\n",
    "# string$ string must end with a string"
   ]
  },
  {
   "cell_type": "markdown",
   "id": "b2812106",
   "metadata": {},
   "source": [
    "#### re module in python\n",
    "#### we first have to import the module and then compile a pattern"
   ]
  },
  {
   "cell_type": "code",
   "execution_count": 3,
   "id": "d3b3341e",
   "metadata": {},
   "outputs": [
    {
     "data": {
      "text/plain": [
       "re.compile(r'kabambe', re.UNICODE)"
      ]
     },
     "execution_count": 3,
     "metadata": {},
     "output_type": "execute_result"
    }
   ],
   "source": [
    "import re\n",
    "pattern = re.compile(r'kabambe') # gives access to unicode which offers a consistent way of encoding text \n",
    "pattern"
   ]
  },
  {
   "cell_type": "code",
   "execution_count": 5,
   "id": "4d09b572",
   "metadata": {},
   "outputs": [
    {
     "data": {
      "text/plain": [
       "<re.Match object; span=(0, 7), match='kabambe'>"
      ]
     },
     "execution_count": 5,
     "metadata": {},
     "output_type": "execute_result"
    }
   ],
   "source": [
    "pattern.match('kabambe')#returns an object"
   ]
  },
  {
   "cell_type": "code",
   "execution_count": 6,
   "id": "c80913e2",
   "metadata": {},
   "outputs": [
    {
     "data": {
      "text/plain": [
       "'kabambe'"
      ]
     },
     "execution_count": 6,
     "metadata": {},
     "output_type": "execute_result"
    }
   ],
   "source": [
    "name = pattern.match('kabambe')\n",
    "name.group() # returns a string"
   ]
  },
  {
   "cell_type": "code",
   "execution_count": 7,
   "id": "ca9787d5",
   "metadata": {},
   "outputs": [],
   "source": [
    "name_3 = pattern.match('hello kabambe')"
   ]
  },
  {
   "cell_type": "code",
   "execution_count": 8,
   "id": "c1f87560",
   "metadata": {},
   "outputs": [],
   "source": [
    "name_3 = pattern.search('hello kabambe')"
   ]
  },
  {
   "cell_type": "code",
   "execution_count": 9,
   "id": "e5f33729",
   "metadata": {},
   "outputs": [
    {
     "data": {
      "text/plain": [
       "'kabambe'"
      ]
     },
     "execution_count": 9,
     "metadata": {},
     "output_type": "execute_result"
    }
   ],
   "source": [
    "name_3.group()"
   ]
  },
  {
   "cell_type": "code",
   "execution_count": 16,
   "id": "911a67e8",
   "metadata": {},
   "outputs": [],
   "source": [
    "pattern_2 = re.compile(r'g\\D+') # matches letter george with all the preceeding non-digit characters\n",
    "pattern_2 = re.compile(r'g\\D')# matches letter g with next immediate non-digit character"
   ]
  },
  {
   "cell_type": "code",
   "execution_count": 17,
   "id": "83bdc2ce",
   "metadata": {},
   "outputs": [
    {
     "data": {
      "text/plain": [
       "<re.Match object; span=(0, 2), match='ge'>"
      ]
     },
     "execution_count": 17,
     "metadata": {},
     "output_type": "execute_result"
    }
   ],
   "source": [
    "pattern_2.match('george12345')"
   ]
  },
  {
   "cell_type": "code",
   "execution_count": 19,
   "id": "3bc45e90",
   "metadata": {},
   "outputs": [],
   "source": [
    "#matching file extensions\n",
    "\n",
    "string = '''image.jpg,image01.png,image02.jpg,my_doc.doc,my_doc2.docx,london_bridge.gif,another_doc.doc,my_pdf.pdf'''"
   ]
  },
  {
   "cell_type": "code",
   "execution_count": 21,
   "id": "24080ef2",
   "metadata": {},
   "outputs": [],
   "source": [
    "pattern_3 = re.compile(r'(\\w+)\\.(jpg|png|gif)')"
   ]
  },
  {
   "cell_type": "code",
   "execution_count": 22,
   "id": "7b52b18e",
   "metadata": {},
   "outputs": [
    {
     "name": "stdout",
     "output_type": "stream",
     "text": [
      "image.jpg\n",
      "image01.png\n",
      "image02.jpg\n",
      "london_bridge.gif\n"
     ]
    }
   ],
   "source": [
    "for m in re.finditer(pattern_3, string):\n",
    "    print(m.group())"
   ]
  },
  {
   "cell_type": "code",
   "execution_count": null,
   "id": "fd9315a2",
   "metadata": {},
   "outputs": [],
   "source": []
  },
  {
   "cell_type": "code",
   "execution_count": null,
   "id": "52d18955",
   "metadata": {},
   "outputs": [],
   "source": []
  },
  {
   "cell_type": "markdown",
   "id": "ef303aef",
   "metadata": {},
   "source": [
    "#### Type hints\n",
    "#### Tells the user the type o a variable in a function and the type of the variable's output"
   ]
  },
  {
   "cell_type": "markdown",
   "id": "5758e2cf",
   "metadata": {},
   "source": [
    "#### without type hints"
   ]
  },
  {
   "cell_type": "code",
   "execution_count": 23,
   "id": "cc335337",
   "metadata": {},
   "outputs": [],
   "source": [
    "def hello_1(name):\n",
    "    return f'Hello {name}'"
   ]
  },
  {
   "cell_type": "markdown",
   "id": "54598866",
   "metadata": {},
   "source": [
    "#### with type hints"
   ]
  },
  {
   "cell_type": "code",
   "execution_count": 24,
   "id": "0b113189",
   "metadata": {},
   "outputs": [],
   "source": [
    "def hello_2(name: str) -> str:\n",
    "    return f'hello {name}'"
   ]
  },
  {
   "cell_type": "code",
   "execution_count": 25,
   "id": "abb18ebb",
   "metadata": {},
   "outputs": [
    {
     "data": {
      "text/plain": [
       "'Hello georgy'"
      ]
     },
     "execution_count": 25,
     "metadata": {},
     "output_type": "execute_result"
    }
   ],
   "source": [
    "hello_1('georgy')"
   ]
  },
  {
   "cell_type": "code",
   "execution_count": 26,
   "id": "967050b4",
   "metadata": {},
   "outputs": [
    {
     "data": {
      "text/plain": [
       "'hello ogolla'"
      ]
     },
     "execution_count": 26,
     "metadata": {},
     "output_type": "execute_result"
    }
   ],
   "source": [
    "hello_2('ogolla')"
   ]
  },
  {
   "cell_type": "code",
   "execution_count": null,
   "id": "32072449",
   "metadata": {},
   "outputs": [],
   "source": []
  }
 ],
 "metadata": {
  "kernelspec": {
   "display_name": "Python 3 (ipykernel)",
   "language": "python",
   "name": "python3"
  },
  "language_info": {
   "codemirror_mode": {
    "name": "ipython",
    "version": 3
   },
   "file_extension": ".py",
   "mimetype": "text/x-python",
   "name": "python",
   "nbconvert_exporter": "python",
   "pygments_lexer": "ipython3",
   "version": "3.9.7"
  }
 },
 "nbformat": 4,
 "nbformat_minor": 5
}
